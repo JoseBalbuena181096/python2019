{
 "cells": [
  {
   "cell_type": "code",
   "execution_count": 2,
   "metadata": {},
   "outputs": [
    {
     "name": "stdout",
     "output_type": "stream",
     "text": [
      "Hello word\n",
      "This is the second line!\n",
      "4\n"
     ]
    }
   ],
   "source": [
    "\"\"\"\n",
    "Our first program in python\n",
    "\"\"\"\n",
    "\"\"\"\n",
    "This is a commentary of several lines \n",
    "\"\"\"\n",
    "\"\"\"\n",
    "The scrips the python will be executed by \n",
    "up to down\n",
    "\"\"\"\n",
    "print(\"Hello word\")\n",
    "print(\"This is the second line!\")\n",
    "#In python the code can be sepated in several lines\n",
    "sum=2+\\\n",
    "2\n",
    "print(sum)"
   ]
  },
  {
   "cell_type": "code",
   "execution_count": 3,
   "metadata": {},
   "outputs": [
    {
     "name": "stdout",
     "output_type": "stream",
     "text": [
      "\n",
      "This is a commentary\n",
      "\n"
     ]
    }
   ],
   "source": [
    "print(\"\"\"\n",
    "This is a commentary\n",
    "\"\"\")"
   ]
  },
  {
   "cell_type": "code",
   "execution_count": 4,
   "metadata": {},
   "outputs": [
    {
     "data": {
      "text/plain": [
       "'\\nThe primitives more commons are strings, number and booleans\\n'"
      ]
     },
     "execution_count": 4,
     "metadata": {},
     "output_type": "execute_result"
    }
   ],
   "source": [
    "\"\"\"\n",
    "Python has different types of variable basic there\n",
    "are part of the nucleo of lenguage, are called primitives\n",
    "\"\"\"\n",
    "\"\"\"\n",
    "The primitives more commons are strings, number and booleans\n",
    "\"\"\""
   ]
  },
  {
   "cell_type": "code",
   "execution_count": 6,
   "metadata": {},
   "outputs": [
    {
     "name": "stdout",
     "output_type": "stream",
     "text": [
      "These are use for represent a text\n",
      "Hello\n",
      "Word\n",
      "<class 'str'>\n",
      "<class 'str'>\n"
     ]
    }
   ],
   "source": [
    "\"\"\"\n",
    "Strings \n",
    "\"\"\"\n",
    "print(\"These are use for represent a text\")\n",
    "var_str=\"Hello\"\n",
    "var_str2=\"Word\"\n",
    "print(var_str)\n",
    "print(var_str2)\n",
    "print(type(var_str))\n",
    "print(type(var_str2))"
   ]
  },
  {
   "cell_type": "code",
   "execution_count": 7,
   "metadata": {},
   "outputs": [
    {
     "name": "stdout",
     "output_type": "stream",
     "text": [
      "Hello Word\n"
     ]
    }
   ],
   "source": [
    "\"\"\"\n",
    "The string are join to create strings more long.\n",
    "There are many ways to join strings called interpolation strings\n",
    "\"\"\"\n",
    "var_str_join=var_str+\" \"+var_str2\n",
    "print(var_str_join)"
   ]
  },
  {
   "cell_type": "code",
   "execution_count": 10,
   "metadata": {},
   "outputs": [
    {
     "name": "stdout",
     "output_type": "stream",
     "text": [
      "nunnunnunnunnunnunnunnunnunnun\n"
     ]
    }
   ],
   "source": [
    "\"\"\"\n",
    "Also can multiply strings\n",
    "\"\"\"\n",
    "n=\"nun\"\n",
    "print(n*10)"
   ]
  },
  {
   "cell_type": "code",
   "execution_count": 12,
   "metadata": {},
   "outputs": [
    {
     "name": "stdout",
     "output_type": "stream",
     "text": [
      "Hello my name is Jose, i am from Atlixco\n"
     ]
    }
   ],
   "source": [
    "\"\"\"\n",
    "The method  format, allow insert string\n",
    "into other strings\n",
    "\"\"\"\n",
    "name=\"Jose\"\n",
    "city=\"Atlixco\"\n",
    "presentation=\"Hello my name is {}, i am from {}\".format(name,city)\n",
    "print(presentation)"
   ]
  },
  {
   "cell_type": "code",
   "execution_count": 13,
   "metadata": {},
   "outputs": [
    {
     "name": "stdout",
     "output_type": "stream",
     "text": [
      "The first digits of pi are: 3.141592653589793\n",
      "The first digits of pi are 3.14\n",
      "The first digits of pi are: 3\n"
     ]
    }
   ],
   "source": [
    "\"\"\"\n",
    "Using the method format we can round number \n",
    "\"\"\"\n",
    "import math\n",
    "pi_str=\"The first digits of pi are: {}\".format(math.pi)\n",
    "print(pi_str)\n",
    "#also we rond the number to two decimal\n",
    "pi_str=\"The first digits of pi are {:.2f}\".format(math.pi)\n",
    "print(pi_str)\n",
    "#if pass 0 decimal to integer\n",
    "pi_str=\"The first digits of pi are: {:.0f}\".format(math.pi)\n",
    "print(pi_str)"
   ]
  },
  {
   "cell_type": "code",
   "execution_count": 15,
   "metadata": {},
   "outputs": [
    {
     "name": "stdout",
     "output_type": "stream",
     "text": [
      "Hello my name is Jose, i am from Atlixco\n"
     ]
    }
   ],
   "source": [
    "\"\"\"\n",
    "Other way to interpolar strings, only python 3.6 to \n",
    "onwards is the reference directy of the variable of \n",
    "the string, convert to f string as\n",
    "\"\"\"\n",
    "presentation2=f\"Hello my name is {name}, i am from {city}\"\n",
    "print(presentation2)"
   ]
  },
  {
   "cell_type": "code",
   "execution_count": 17,
   "metadata": {},
   "outputs": [
    {
     "name": "stdout",
     "output_type": "stream",
     "text": [
      "Convert the string to capital letters\n",
      "INTRODUCTION TO PYTHON\n",
      "Convert the string to lowercase\n",
      "introduction to python\n",
      "Set the first letter to capilal letter\n",
      "Introduction to python\n"
     ]
    }
   ],
   "source": [
    "\"\"\"\n",
    "More operation with strings\n",
    "\"\"\"\n",
    "title=\"introduction to PYTHON\"\n",
    "print(\"Convert the string to capital letters\")\n",
    "print(title.upper())\n",
    "print(\"Convert the string to lowercase\")\n",
    "print(title.lower())\n",
    "print(\"Set the first letter to capilal letter\")\n",
    "print(title.capitalize())"
   ]
  },
  {
   "cell_type": "code",
   "execution_count": 18,
   "metadata": {},
   "outputs": [
    {
     "name": "stdout",
     "output_type": "stream",
     "text": [
      "we use strip to delete charapter in the start and the end of the string\n",
      "manuel\n",
      "we use replace to replace parts of strings\n",
      ",mariano,\n",
      "All methods can will be chained\n",
      "mariano\n"
     ]
    }
   ],
   "source": [
    "name_with_commas=\",manuel,\"\n",
    "print(\"we use strip to delete charapter in the start and the end of the string\")\n",
    "print(name_with_commas.strip(','))\n",
    "print(\"we use replace to replace parts of strings\")\n",
    "print(name_with_commas.replace(\"nuel\",\"riano\"))\n",
    "print(\"All methods can will be chained\")\n",
    "print(name_with_commas.strip(',').replace(\"nuel\",\"riano\"))"
   ]
  },
  {
   "cell_type": "code",
   "execution_count": 19,
   "metadata": {},
   "outputs": [
    {
     "name": "stdout",
     "output_type": "stream",
     "text": [
      "['red', 'yellow', 'green', 'blue']\n",
      "<class 'list'>\n"
     ]
    }
   ],
   "source": [
    "colors_str=\"red|yellow|green|blue\"\n",
    "colors_list=colors_str.split('|')\n",
    "print(colors_list)\n",
    "print(type(colors_list))"
   ]
  },
  {
   "cell_type": "code",
   "execution_count": 21,
   "metadata": {},
   "outputs": [
    {
     "name": "stdout",
     "output_type": "stream",
     "text": [
      "<class 'int'>\n",
      "<class 'float'>\n"
     ]
    }
   ],
   "source": [
    "\"\"\"\n",
    "Numbers \n",
    "Python has to basic type of number int(integers) and \n",
    "float(decimal)\n",
    "\"\"\"\n",
    "integer =23\n",
    "print(type(integer))\n",
    "decimal=1.5\n",
    "print(type(decimal))"
   ]
  },
  {
   "cell_type": "code",
   "execution_count": 22,
   "metadata": {
    "scrolled": true
   },
   "outputs": [
    {
     "name": "stdout",
     "output_type": "stream",
     "text": [
      "Convert integer to string\n",
      "<class 'str'>\n",
      "two+ 1.5\n"
     ]
    }
   ],
   "source": [
    "print(\"Convert integer to string\")\n",
    "print(type(str(integer)))\n",
    "print(\"two+ \"+str(decimal))"
   ]
  },
  {
   "cell_type": "code",
   "execution_count": 24,
   "metadata": {},
   "outputs": [
    {
     "name": "stdout",
     "output_type": "stream",
     "text": [
      "Also we can use number in iterpolation of strings\n",
      "Hello my name is Jose, i am from Atlixco, my age is 33\n"
     ]
    }
   ],
   "source": [
    "print(\"Also we can use number in iterpolation of strings\")\n",
    "name=\"Jose\"\n",
    "city=\"Atlixco\"\n",
    "age=33\n",
    "print(f\"Hello my name is {name}, i am from {city}, my age is {age}\")"
   ]
  },
  {
   "cell_type": "code",
   "execution_count": 25,
   "metadata": {},
   "outputs": [
    {
     "name": "stdout",
     "output_type": "stream",
     "text": [
      "We also can convert strings to numbers\n",
      "29\n",
      "29.0\n"
     ]
    }
   ],
   "source": [
    "print(\"We also can convert strings to numbers\")\n",
    "number_str=\"24\"\n",
    "print(int(number_str)+5)\n",
    "print(float(number_str)+5)"
   ]
  },
  {
   "cell_type": "code",
   "execution_count": 27,
   "metadata": {},
   "outputs": [
    {
     "name": "stdout",
     "output_type": "stream",
     "text": [
      "The same way we can use the interpolation\n",
      "24.5\n"
     ]
    }
   ],
   "source": [
    "print(\"The same way we can use the interpolation\")\n",
    "number_string_valid=\"24.5\"\n",
    "print(float(number_string_valid))"
   ]
  }
 ],
 "metadata": {
  "kernelspec": {
   "display_name": "Python 3",
   "language": "python",
   "name": "python3"
  },
  "language_info": {
   "codemirror_mode": {
    "name": "ipython",
    "version": 3
   },
   "file_extension": ".py",
   "mimetype": "text/x-python",
   "name": "python",
   "nbconvert_exporter": "python",
   "pygments_lexer": "ipython3",
   "version": "3.6.7"
  }
 },
 "nbformat": 4,
 "nbformat_minor": 2
}
