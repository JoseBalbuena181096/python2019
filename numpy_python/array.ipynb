{
 "cells": [
  {
   "cell_type": "markdown",
   "metadata": {},
   "source": [
    "Array\n",
    "\n",
    "[[0 1 2]\n",
    " [3 2 4]]\n",
    " \n",
    "List:\n",
    "\n",
    "[{\"age\":25,\"name\":\"john\"},{\"age\":15,\"name\":\"Pedro\"}]"
   ]
  },
  {
   "cell_type": "markdown",
   "metadata": {},
   "source": [
    "array\n",
    "\n",
    "[1 2 3]+[1 2 3]=[2 4 6]\n",
    "\n",
    "[1 2 3]*2=[2 4 6]"
   ]
  },
  {
   "cell_type": "code",
   "execution_count": 3,
   "metadata": {},
   "outputs": [
    {
     "name": "stdout",
     "output_type": "stream",
     "text": [
      "[2, 12, 36]\n"
     ]
    }
   ],
   "source": [
    "list_one=list(range(1,4))\n",
    "list_two=list(range(1,4))\n",
    "list_sum=[]\n",
    "for index in range(3):\n",
    "    list_one[index]**=2\n",
    "    list_two[index]**=3\n",
    "    list_sum.append(list_one[index]+list_two[index])\n",
    "print(list_sum)"
   ]
  },
  {
   "cell_type": "code",
   "execution_count": 4,
   "metadata": {},
   "outputs": [],
   "source": [
    "import numpy as np"
   ]
  },
  {
   "cell_type": "code",
   "execution_count": 5,
   "metadata": {},
   "outputs": [
    {
     "name": "stdout",
     "output_type": "stream",
     "text": [
      "[ 2 12 36]\n"
     ]
    }
   ],
   "source": [
    "array_one=np.arange(1,4)**2\n",
    "array_two=np.arange(1,4)**3\n",
    "array_sum=array_one+array_two\n",
    "print(array_sum)"
   ]
  },
  {
   "cell_type": "code",
   "execution_count": 8,
   "metadata": {},
   "outputs": [
    {
     "name": "stdout",
     "output_type": "stream",
     "text": [
      "[1 4 9]\n",
      "[-1 -4 -9]\n"
     ]
    }
   ],
   "source": [
    "array_square=np.power(np.array([1,2,3]),2)\n",
    "array_negative=np.negative(array_square)\n",
    "print(array_square)\n",
    "print(array_negative)"
   ]
  },
  {
   "cell_type": "code",
   "execution_count": 10,
   "metadata": {},
   "outputs": [
    {
     "name": "stdout",
     "output_type": "stream",
     "text": [
      "[1.         2.71828183 7.3890561 ]\n"
     ]
    }
   ],
   "source": [
    "array_exp=np.exp(np.array([0,1,2]))\n",
    "print(array_exp)"
   ]
  },
  {
   "cell_type": "code",
   "execution_count": 12,
   "metadata": {},
   "outputs": [
    {
     "name": "stdout",
     "output_type": "stream",
     "text": [
      "[0.         0.69314718 1.09861229]\n"
     ]
    }
   ],
   "source": [
    "array_log=np.log(np.array([1,2,3]))\n",
    "print(array_log)"
   ]
  },
  {
   "cell_type": "code",
   "execution_count": 14,
   "metadata": {},
   "outputs": [
    {
     "name": "stdout",
     "output_type": "stream",
     "text": [
      "[0.         0.84147098 0.90929743]\n"
     ]
    }
   ],
   "source": [
    "array_sin=np.sin(np.array([0,1,2]))\n",
    "print(array_sin)"
   ]
  }
 ],
 "metadata": {
  "kernelspec": {
   "display_name": "Python 3",
   "language": "python",
   "name": "python3"
  },
  "language_info": {
   "codemirror_mode": {
    "name": "ipython",
    "version": 3
   },
   "file_extension": ".py",
   "mimetype": "text/x-python",
   "name": "python",
   "nbconvert_exporter": "python",
   "pygments_lexer": "ipython3",
   "version": "3.6.7"
  }
 },
 "nbformat": 4,
 "nbformat_minor": 2
}
