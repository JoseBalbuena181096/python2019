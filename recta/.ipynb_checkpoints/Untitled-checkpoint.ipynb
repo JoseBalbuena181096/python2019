{
 "cells": [
  {
   "cell_type": "code",
   "execution_count": 1,
   "metadata": {},
   "outputs": [],
   "source": [
    "import numpy as np\n",
    "import pandas as pd\n",
    "import seaborn as sns\n",
    "import matplotlib.pyplot as plt\n",
    "from scipy import stats\n",
    "import matplotlib.image as mpimg\n"
   ]
  },
  {
   "cell_type": "code",
   "execution_count": 2,
   "metadata": {},
   "outputs": [
    {
     "data": {
      "text/html": [
       "<div>\n",
       "<style scoped>\n",
       "    .dataframe tbody tr th:only-of-type {\n",
       "        vertical-align: middle;\n",
       "    }\n",
       "\n",
       "    .dataframe tbody tr th {\n",
       "        vertical-align: top;\n",
       "    }\n",
       "\n",
       "    .dataframe thead th {\n",
       "        text-align: right;\n",
       "    }\n",
       "</style>\n",
       "<table border=\"1\" class=\"dataframe\">\n",
       "  <thead>\n",
       "    <tr style=\"text-align: right;\">\n",
       "      <th></th>\n",
       "      <th>MAE_LEFT</th>\n",
       "      <th>RMSE_LEFT</th>\n",
       "      <th>MAE_RIGHT</th>\n",
       "      <th>RMSE_RIGHT</th>\n",
       "    </tr>\n",
       "  </thead>\n",
       "  <tbody>\n",
       "    <tr>\n",
       "      <th>0</th>\n",
       "      <td>0.608187</td>\n",
       "      <td>0.787327</td>\n",
       "      <td>0.496429</td>\n",
       "      <td>0.709628</td>\n",
       "    </tr>\n",
       "    <tr>\n",
       "      <th>1</th>\n",
       "      <td>0.519802</td>\n",
       "      <td>0.727807</td>\n",
       "      <td>0.583916</td>\n",
       "      <td>0.777750</td>\n",
       "    </tr>\n",
       "    <tr>\n",
       "      <th>2</th>\n",
       "      <td>0.916279</td>\n",
       "      <td>1.606672</td>\n",
       "      <td>0.886447</td>\n",
       "      <td>1.228478</td>\n",
       "    </tr>\n",
       "    <tr>\n",
       "      <th>3</th>\n",
       "      <td>0.763314</td>\n",
       "      <td>1.095985</td>\n",
       "      <td>0.575758</td>\n",
       "      <td>0.827556</td>\n",
       "    </tr>\n",
       "    <tr>\n",
       "      <th>4</th>\n",
       "      <td>3.605505</td>\n",
       "      <td>6.277234</td>\n",
       "      <td>0.512295</td>\n",
       "      <td>0.721451</td>\n",
       "    </tr>\n",
       "    <tr>\n",
       "      <th>5</th>\n",
       "      <td>0.900943</td>\n",
       "      <td>1.658312</td>\n",
       "      <td>0.535270</td>\n",
       "      <td>0.817343</td>\n",
       "    </tr>\n",
       "  </tbody>\n",
       "</table>\n",
       "</div>"
      ],
      "text/plain": [
       "   MAE_LEFT  RMSE_LEFT  MAE_RIGHT  RMSE_RIGHT\n",
       "0  0.608187   0.787327   0.496429    0.709628\n",
       "1  0.519802   0.727807   0.583916    0.777750\n",
       "2  0.916279   1.606672   0.886447    1.228478\n",
       "3  0.763314   1.095985   0.575758    0.827556\n",
       "4  3.605505   6.277234   0.512295    0.721451\n",
       "5  0.900943   1.658312   0.535270    0.817343"
      ]
     },
     "execution_count": 2,
     "metadata": {},
     "output_type": "execute_result"
    }
   ],
   "source": [
    "Recta_errors = pd.DataFrame()\n",
    "Recta_errors[\"MAE_LEFT\"] = np.array([0.6081871345029239,0.5198019801980198,0.9162790697674419,0.7633136094674556,3.6055045871559632,0.9009433962264151]) \n",
    "Recta_errors[\"RMSE_LEFT\"] = np.array([0.787326514818136,0.7278069595002714,1.6066721348293838,1.095985142213462,6.277234241668112,1.6583123951777])\n",
    "Recta_errors[\"MAE_RIGHT\"] = np.array([0.49642857142857144,0.583916083916084,0.8864468864468864,0.5757575757575758,0.5122950819672131,0.5352697095435685])\n",
    "Recta_errors[\"RMSE_RIGHT\"] = np.array([0.7096276689725596,0.7777500272549689,1.228477720252797,0.8275557291496959,0.7214511787215324,0.8173431302281314])\n",
    "Recta_errors"
   ]
  },
  {
   "cell_type": "code",
   "execution_count": 3,
   "metadata": {},
   "outputs": [
    {
     "data": {
      "text/html": [
       "<div>\n",
       "<style scoped>\n",
       "    .dataframe tbody tr th:only-of-type {\n",
       "        vertical-align: middle;\n",
       "    }\n",
       "\n",
       "    .dataframe tbody tr th {\n",
       "        vertical-align: top;\n",
       "    }\n",
       "\n",
       "    .dataframe thead th {\n",
       "        text-align: right;\n",
       "    }\n",
       "</style>\n",
       "<table border=\"1\" class=\"dataframe\">\n",
       "  <thead>\n",
       "    <tr style=\"text-align: right;\">\n",
       "      <th></th>\n",
       "      <th>RMSE_LEFT</th>\n",
       "      <th>MAE_LEFT</th>\n",
       "      <th>RMSE_RIGHT</th>\n",
       "      <th>MAE_RIGHT</th>\n",
       "    </tr>\n",
       "  </thead>\n",
       "  <tbody>\n",
       "    <tr>\n",
       "      <th>0</th>\n",
       "      <td>0.984084</td>\n",
       "      <td>0.694737</td>\n",
       "      <td>1.310923</td>\n",
       "      <td>0.970370</td>\n",
       "    </tr>\n",
       "    <tr>\n",
       "      <th>1</th>\n",
       "      <td>0.696631</td>\n",
       "      <td>0.485294</td>\n",
       "      <td>0.823646</td>\n",
       "      <td>0.577889</td>\n",
       "    </tr>\n",
       "    <tr>\n",
       "      <th>2</th>\n",
       "      <td>2.543284</td>\n",
       "      <td>2.058537</td>\n",
       "      <td>1.012335</td>\n",
       "      <td>0.691489</td>\n",
       "    </tr>\n",
       "    <tr>\n",
       "      <th>3</th>\n",
       "      <td>4.773552</td>\n",
       "      <td>3.182741</td>\n",
       "      <td>1.358732</td>\n",
       "      <td>0.931174</td>\n",
       "    </tr>\n",
       "    <tr>\n",
       "      <th>4</th>\n",
       "      <td>1.069482</td>\n",
       "      <td>0.790850</td>\n",
       "      <td>2.891995</td>\n",
       "      <td>2.181818</td>\n",
       "    </tr>\n",
       "    <tr>\n",
       "      <th>5</th>\n",
       "      <td>3.473605</td>\n",
       "      <td>2.981685</td>\n",
       "      <td>9.527013</td>\n",
       "      <td>7.732919</td>\n",
       "    </tr>\n",
       "  </tbody>\n",
       "</table>\n",
       "</div>"
      ],
      "text/plain": [
       "   RMSE_LEFT  MAE_LEFT  RMSE_RIGHT  MAE_RIGHT\n",
       "0   0.984084  0.694737    1.310923   0.970370\n",
       "1   0.696631  0.485294    0.823646   0.577889\n",
       "2   2.543284  2.058537    1.012335   0.691489\n",
       "3   4.773552  3.182741    1.358732   0.931174\n",
       "4   1.069482  0.790850    2.891995   2.181818\n",
       "5   3.473605  2.981685    9.527013   7.732919"
      ]
     },
     "execution_count": 3,
     "metadata": {},
     "output_type": "execute_result"
    }
   ],
   "source": [
    "CurveA_errors = pd.DataFrame()\n",
    "CurveA_errors[\"RMSE_LEFT\"] = np.array([0.9840838646332837,0.6966305460192359,2.5432838384511527,4.773552349189946,1.0694815798662465,3.473605341131037])\n",
    "CurveA_errors[\"MAE_LEFT\"] = np.array([0.6947368421052632,0.4852941176470588,2.0585365853658537,3.182741116751269,0.7908496732026143,2.9816849816849818]) \n",
    "CurveA_errors[\"RMSE_RIGHT\"] = np.array([1.3109227736669,0.8236455304310192,1.0123352680982032,1.3587324409735149,2.891995221924885,9.527012918815608])\n",
    "CurveA_errors[\"MAE_RIGHT\"] = np.array([0.9703703703703703,0.5778894472361809,0.6914893617021277,0.9311740890688259,2.1818181818181817,7.732919254658385])\n",
    "CurveA_errors"
   ]
  },
  {
   "cell_type": "code",
   "execution_count": 4,
   "metadata": {
    "scrolled": true
   },
   "outputs": [
    {
     "data": {
      "text/html": [
       "<div>\n",
       "<style scoped>\n",
       "    .dataframe tbody tr th:only-of-type {\n",
       "        vertical-align: middle;\n",
       "    }\n",
       "\n",
       "    .dataframe tbody tr th {\n",
       "        vertical-align: top;\n",
       "    }\n",
       "\n",
       "    .dataframe thead th {\n",
       "        text-align: right;\n",
       "    }\n",
       "</style>\n",
       "<table border=\"1\" class=\"dataframe\">\n",
       "  <thead>\n",
       "    <tr style=\"text-align: right;\">\n",
       "      <th></th>\n",
       "      <th>RMSE_LEFT</th>\n",
       "      <th>MAE_LEFT</th>\n",
       "      <th>RMSE_RIGHT</th>\n",
       "      <th>MAE_RIGHT</th>\n",
       "    </tr>\n",
       "  </thead>\n",
       "  <tbody>\n",
       "    <tr>\n",
       "      <th>0</th>\n",
       "      <td>4.675971</td>\n",
       "      <td>2.558824</td>\n",
       "      <td>2.257518</td>\n",
       "      <td>1.763052</td>\n",
       "    </tr>\n",
       "    <tr>\n",
       "      <th>1</th>\n",
       "      <td>4.657694</td>\n",
       "      <td>2.576471</td>\n",
       "      <td>2.266395</td>\n",
       "      <td>1.779116</td>\n",
       "    </tr>\n",
       "    <tr>\n",
       "      <th>2</th>\n",
       "      <td>4.639980</td>\n",
       "      <td>2.529412</td>\n",
       "      <td>2.265509</td>\n",
       "      <td>1.775100</td>\n",
       "    </tr>\n",
       "    <tr>\n",
       "      <th>3</th>\n",
       "      <td>4.485625</td>\n",
       "      <td>3.120833</td>\n",
       "      <td>1.131247</td>\n",
       "      <td>0.825175</td>\n",
       "    </tr>\n",
       "    <tr>\n",
       "      <th>4</th>\n",
       "      <td>9.033995</td>\n",
       "      <td>7.030151</td>\n",
       "      <td>1.479247</td>\n",
       "      <td>1.188172</td>\n",
       "    </tr>\n",
       "    <tr>\n",
       "      <th>5</th>\n",
       "      <td>6.037916</td>\n",
       "      <td>4.680498</td>\n",
       "      <td>5.421152</td>\n",
       "      <td>4.388889</td>\n",
       "    </tr>\n",
       "  </tbody>\n",
       "</table>\n",
       "</div>"
      ],
      "text/plain": [
       "   RMSE_LEFT  MAE_LEFT  RMSE_RIGHT  MAE_RIGHT\n",
       "0   4.675971  2.558824    2.257518   1.763052\n",
       "1   4.657694  2.576471    2.266395   1.779116\n",
       "2   4.639980  2.529412    2.265509   1.775100\n",
       "3   4.485625  3.120833    1.131247   0.825175\n",
       "4   9.033995  7.030151    1.479247   1.188172\n",
       "5   6.037916  4.680498    5.421152   4.388889"
      ]
     },
     "execution_count": 4,
     "metadata": {},
     "output_type": "execute_result"
    }
   ],
   "source": [
    "CurveB_errors = pd.DataFrame()\n",
    "CurveB_errors[\"RMSE_LEFT\"] = np.array([4.675971116501143,4.657694456172369,4.6399797159800045,4.485625188681432,9.033994981547929,6.037916158350471])\n",
    "CurveB_errors[\"MAE_LEFT\"] = np.array([2.5588235294117645,2.5764705882352943,2.5294117647058822,3.120833333333333,7.030150753768845,4.680497925311204]) \n",
    "CurveB_errors[\"RMSE_RIGHT\"] = np.array([2.2575175618738106,2.2663949754486654,2.265508799471308,1.1312472230773782,1.4792471203320805,5.421151989096864])\n",
    "CurveB_errors[\"MAE_RIGHT\"] = np.array([1.7630522088353413,1.7791164658634537,1.7751004016064258,0.8251748251748252,1.1881720430107527,4.388888888888889])\n",
    "CurveB_errors"
   ]
  },
  {
   "cell_type": "code",
   "execution_count": 5,
   "metadata": {},
   "outputs": [
    {
     "data": {
      "text/html": [
       "<div>\n",
       "<style scoped>\n",
       "    .dataframe tbody tr th:only-of-type {\n",
       "        vertical-align: middle;\n",
       "    }\n",
       "\n",
       "    .dataframe tbody tr th {\n",
       "        vertical-align: top;\n",
       "    }\n",
       "\n",
       "    .dataframe thead th {\n",
       "        text-align: right;\n",
       "    }\n",
       "</style>\n",
       "<table border=\"1\" class=\"dataframe\">\n",
       "  <thead>\n",
       "    <tr style=\"text-align: right;\">\n",
       "      <th></th>\n",
       "      <th>RMSE_CROSSING</th>\n",
       "      <th>MAE_CROSSING</th>\n",
       "    </tr>\n",
       "  </thead>\n",
       "  <tbody>\n",
       "    <tr>\n",
       "      <th>0</th>\n",
       "      <td>10.186359</td>\n",
       "      <td>5.857143</td>\n",
       "    </tr>\n",
       "    <tr>\n",
       "      <th>1</th>\n",
       "      <td>5.855909</td>\n",
       "      <td>2.946429</td>\n",
       "    </tr>\n",
       "    <tr>\n",
       "      <th>2</th>\n",
       "      <td>4.127567</td>\n",
       "      <td>2.165644</td>\n",
       "    </tr>\n",
       "    <tr>\n",
       "      <th>3</th>\n",
       "      <td>4.314879</td>\n",
       "      <td>2.666667</td>\n",
       "    </tr>\n",
       "    <tr>\n",
       "      <th>4</th>\n",
       "      <td>6.583983</td>\n",
       "      <td>4.860465</td>\n",
       "    </tr>\n",
       "    <tr>\n",
       "      <th>5</th>\n",
       "      <td>6.776966</td>\n",
       "      <td>5.515152</td>\n",
       "    </tr>\n",
       "  </tbody>\n",
       "</table>\n",
       "</div>"
      ],
      "text/plain": [
       "   RMSE_CROSSING  MAE_CROSSING\n",
       "0      10.186359      5.857143\n",
       "1       5.855909      2.946429\n",
       "2       4.127567      2.165644\n",
       "3       4.314879      2.666667\n",
       "4       6.583983      4.860465\n",
       "5       6.776966      5.515152"
      ]
     },
     "execution_count": 5,
     "metadata": {},
     "output_type": "execute_result"
    }
   ],
   "source": [
    "Crossing_errors = pd.DataFrame()\n",
    "Crossing_errors[\"RMSE_CROSSING\"] = np.array([10.186358758747149,5.855908696920288,4.127567057717042,4.31487911976475,6.5839833846465865,6.7769663365899])\n",
    "Crossing_errors[\"MAE_CROSSING\"] = np.array([5.857142857142857,2.9464285714285716,2.165644171779141,2.6666666666666665,4.8604651162790695,5.515151515151516]) \n",
    "Crossing_errors"
   ]
  },
  {
   "cell_type": "code",
   "execution_count": 6,
   "metadata": {
    "scrolled": true
   },
   "outputs": [
    {
     "data": {
      "image/png": "[encoded data removed]",
      "text/plain": [
       "<Figure size 432x288 with 3 Axes>"
      ]
     },
     "metadata": {
      "needs_background": "light"
     },
     "output_type": "display_data"
    },
    {
     "data": {
      "image/png": "[encoded data removed]",
      "text/plain": [
       "<Figure size 360x360 with 1 Axes>"
      ]
     },
     "metadata": {
      "needs_background": "light"
     },
     "output_type": "display_data"
    },
    {
     "data": {
      "image/png": "[encoded data removed]",
      "text/plain": [
       "<Figure size 360x360 with 1 Axes>"
      ]
     },
     "metadata": {
      "needs_background": "light"
     },
     "output_type": "display_data"
    },
    {
     "data": {
      "image/png": "[encoded data removed]",
      "text/plain": [
       "<Figure size 360x360 with 1 Axes>"
      ]
     },
     "metadata": {
      "needs_background": "light"
     },
     "output_type": "display_data"
    }
   ],
   "source": [
    "fig, axes = plt.subplots(3,1)\n",
    "axes[0].set_title(\"Straight\")\n",
    "sns.catplot(kind=\"bar\", data=Recta_errors,ax=axes[0])\n",
    "axes[1].set_title(\"Curve A\")\n",
    "sns.catplot(kind=\"bar\", data=CurveA_errors,ax=axes[1])\n",
    "axes[2].set_title(\"Curve B\")\n",
    "sns.catplot(kind=\"bar\", data=CurveB_errors,ax=axes[2])\n",
    "\n",
    "for ax in axes.flat:\n",
    "    ax.set(xlabel=\"Error\",ylabel=\"Columns\")\n",
    "for ax in axes.flat:\n",
    "    ax.label_outer()"
   ]
  },
  {
   "cell_type": "code",
   "execution_count": 7,
   "metadata": {},
   "outputs": [
    {
     "data": {
      "text/plain": [
       "<seaborn.axisgrid.FacetGrid at 0x7fa2d0e6f7f0>"
      ]
     },
     "execution_count": 7,
     "metadata": {},
     "output_type": "execute_result"
    },
    {
     "data": {
      "image/png": "[encoded data removed]",
      "text/plain": [
       "<Figure size 360x360 with 1 Axes>"
      ]
     },
     "metadata": {
      "needs_background": "light"
     },
     "output_type": "display_data"
    }
   ],
   "source": [
    "sns.catplot(kind=\"bar\", data=Crossing_errors)"
   ]
  },
  {
   "cell_type": "code",
   "execution_count": 8,
   "metadata": {},
   "outputs": [],
   "source": [
    "DesviationR = pd.DataFrame()\n",
    "DesviationR[\"STD_LEFT\"] = np.array([2.765605834190478,1.5135243005165437,3.3575596999895705,1.2399238505132486,6.5122882427546775,1.8270737935850898])\n",
    "DesviationR[\"STD_RIGHT\"] = np.array([1.5252299926936412,2.8480882929684586,2.3988003907542774,1.8269083510260358,4.888069584986488,3.7896972260775383])\n",
    "DesviationA = pd.DataFrame()\n",
    "DesviationA[\"STD_LEFT\"] = np.array([6.4929025815514905,6.529213033541656,14.8189983693578,16.522319422189828,15.436466757624506,40.535635992193725])\n",
    "DesviationA[\"STD_RIGHT\"] = np.array([5.58233545532714,16.551085641071506,5.644325249732903,10.672278262687495,28.168138266808466,15.700158135254915])\n",
    "DesviationB = pd.DataFrame()\n",
    "DesviationB[\"STD_LEFT\"] = np.array([9.955722042327368,9.879929674882451,9.917060899571664,26.862566891494193,21.9946241345684,47.907130247613836])\n",
    "DesviationB[\"STD_RIGHT\"] = np.array([22.650521945796868,22.66253851102478,22.64545001069745,37.28396965679579,28.947333476316302,33.67812326116997])"
   ]
  },
  {
   "cell_type": "code",
   "execution_count": 10,
   "metadata": {},
   "outputs": [
    {
     "data": {
      "image/png": "[encoded data removed]",
      "text/plain": [
       "<Figure size 432x288 with 3 Axes>"
      ]
     },
     "metadata": {
      "needs_background": "light"
     },
     "output_type": "display_data"
    },
    {
     "data": {
      "image/png": "[encoded data removed]",
      "text/plain": [
       "<Figure size 360x360 with 1 Axes>"
      ]
     },
     "metadata": {
      "needs_background": "light"
     },
     "output_type": "display_data"
    },
    {
     "data": {
      "image/png": "[encoded data removed]",
      "text/plain": [
       "<Figure size 360x360 with 1 Axes>"
      ]
     },
     "metadata": {
      "needs_background": "light"
     },
     "output_type": "display_data"
    },
    {
     "data": {
      "image/png": "[encoded data removed]",
      "text/plain": [
       "<Figure size 360x360 with 1 Axes>"
      ]
     },
     "metadata": {
      "needs_background": "light"
     },
     "output_type": "display_data"
    }
   ],
   "source": [
    "fig, axes = plt.subplots(3,1)\n",
    "axes[0].set_title(\"Straight\")\n",
    "sns.catplot(kind=\"bar\", data=DesviationR,ax=axes[0])\n",
    "axes[1].set_title(\"Curve A\")\n",
    "sns.catplot(kind=\"bar\", data=DesviationA,ax=axes[1])\n",
    "axes[2].set_title(\"Curve B\")\n",
    "sns.catplot(kind=\"bar\", data=DesviationB,ax=axes[2])\n",
    "\n",
    "for ax in axes.flat:\n",
    "    ax.set(xlabel=\"Standard Deviation\",ylabel=\"Columns\")\n",
    "for ax in axes.flat:\n",
    "    ax.label_outer()"
   ]
  },
  {
   "cell_type": "code",
   "execution_count": 11,
   "metadata": {},
   "outputs": [
    {
     "data": {
      "text/plain": [
       "<seaborn.axisgrid.FacetGrid at 0x7fa2d09b97b8>"
      ]
     },
     "execution_count": 11,
     "metadata": {},
     "output_type": "execute_result"
    },
    {
     "data": {
      "image/png": "[encoded data removed]",
      "text/plain": [
       "<Figure size 360x360 with 1 Axes>"
      ]
     },
     "metadata": {
      "needs_background": "light"
     },
     "output_type": "display_data"
    }
   ],
   "source": [
    "DesviationC = pd.DataFrame()\n",
    "DesviationC[\"STD_CROSSING\"] = np.array([12.645255803306858,11.075151383823302,8.721717166538648,8.267208726562933,11.583274807804596,8.755111323583382])\n",
    "sns.catplot(kind=\"bar\", data=DesviationC)"
   ]
  }
 ],
 "metadata": {
  "kernelspec": {
   "display_name": "Python 3",
   "language": "python",
   "name": "python3"
  },
  "language_info": {
   "codemirror_mode": {
    "name": "ipython",
    "version": 3
   },
   "file_extension": ".py",
   "mimetype": "text/x-python",
   "name": "python",
   "nbconvert_exporter": "python",
   "pygments_lexer": "ipython3",
   "version": "3.6.7"
  }
 },
 "nbformat": 4,
 "nbformat_minor": 2
}
