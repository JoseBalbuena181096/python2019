{
 "cells": [
  {
   "cell_type": "markdown",
   "metadata": {},
   "source": [
    "If Else"
   ]
  },
  {
   "cell_type": "code",
   "execution_count": 21,
   "metadata": {},
   "outputs": [],
   "source": [
    "grocery_items={\"bananas\":2.99,\"apples\":1.29,\"papayas\":2.29}"
   ]
  },
  {
   "cell_type": "code",
   "execution_count": 22,
   "metadata": {},
   "outputs": [],
   "source": [
    "item=\"brussel aprouts\""
   ]
  },
  {
   "cell_type": "code",
   "execution_count": 23,
   "metadata": {},
   "outputs": [
    {
     "name": "stdout",
     "output_type": "stream",
     "text": [
      "No found the brussel aprouts\n",
      "Just added the item, here is the updated grocery brussel aprouts\n"
     ]
    }
   ],
   "source": [
    "if item in grocery_items:\n",
    "    print(\"found the {}\".format(item))\n",
    "else:\n",
    "    print(\"No found the {}\".format(item))\n",
    "    #Add item to the dictionary\n",
    "    grocery_items.update({item:2.99})\n",
    "    print(\"Just added the item, here is the updated grocery {}\".format(item))"
   ]
  }
 ],
 "metadata": {
  "kernelspec": {
   "display_name": "Python 3",
   "language": "python",
   "name": "python3"
  },
  "language_info": {
   "codemirror_mode": {
    "name": "ipython",
    "version": 3
   },
   "file_extension": ".py",
   "mimetype": "text/x-python",
   "name": "python",
   "nbconvert_exporter": "python",
   "pygments_lexer": "ipython3",
   "version": "3.6.7"
  }
 },
 "nbformat": 4,
 "nbformat_minor": 2
}
