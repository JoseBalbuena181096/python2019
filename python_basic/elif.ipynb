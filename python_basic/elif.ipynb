{
 "cells": [
  {
   "cell_type": "markdown",
   "metadata": {},
   "source": [
    "elif"
   ]
  },
  {
   "cell_type": "code",
   "execution_count": 3,
   "metadata": {},
   "outputs": [],
   "source": [
    "grocery_items={\"bananas\":2.99,\"apples\":1.29,\"papaya\":2.39}"
   ]
  },
  {
   "cell_type": "code",
   "execution_count": 4,
   "metadata": {},
   "outputs": [
    {
     "name": "stdout",
     "output_type": "stream",
     "text": [
      "Too expensive for the inventory.\n"
     ]
    }
   ],
   "source": [
    "item,price=\"rutabagas\",3.99\n",
    "if item in grocery_items:\n",
    "    print(\"found the\",item)\n",
    "elif price >2.99:\n",
    "    print(\"Too expensive for the inventory.\")\n",
    "else:\n",
    "    print(\"Could not find the\",item)\n",
    "    grocery_items.update({item:price})\n",
    "    print(\"Just added the item, here is the updated grocery list\",grocery_items)"
   ]
  },
  {
   "cell_type": "code",
   "execution_count": 6,
   "metadata": {},
   "outputs": [
    {
     "ename": "SyntaxError",
     "evalue": "invalid syntax (<ipython-input-6-4cedb3255dbe>, line 8)",
     "output_type": "error",
     "traceback": [
      "\u001b[0;36m  File \u001b[0;32m\"<ipython-input-6-4cedb3255dbe>\"\u001b[0;36m, line \u001b[0;32m8\u001b[0m\n\u001b[0;31m    elif datatime==\"afternoon\";\u001b[0m\n\u001b[0m                              ^\u001b[0m\n\u001b[0;31mSyntaxError\u001b[0m\u001b[0;31m:\u001b[0m invalid syntax\n"
     ]
    }
   ],
   "source": [
    "datatime=\"dawn\"\n",
    "if daytime==\"dawn\":\n",
    "    print(\"still asleep\")\n",
    "elif datatime==\"morning\":\n",
    "    print(\"time to go to work\")\n",
    "elif datatime==\"noon\":\n",
    "    print(\"time to take a lunch break\")\n",
    "elif datatime==\"afternoon\"\n",
    "    print(\"time to go home\")\n",
    "else:\n",
    "    print(\"Time to go to sleep\")"
   ]
  }
 ],
 "metadata": {
  "kernelspec": {
   "display_name": "Python 3",
   "language": "python",
   "name": "python3"
  },
  "language_info": {
   "codemirror_mode": {
    "name": "ipython",
    "version": 3
   },
   "file_extension": ".py",
   "mimetype": "text/x-python",
   "name": "python",
   "nbconvert_exporter": "python",
   "pygments_lexer": "ipython3",
   "version": "3.6.7"
  }
 },
 "nbformat": 4,
 "nbformat_minor": 2
}
