{
 "cells": [
  {
   "cell_type": "code",
   "execution_count": 2,
   "metadata": {},
   "outputs": [
    {
     "name": "stdout",
     "output_type": "stream",
     "text": [
      "Jose\n",
      "<class 'str'>\n"
     ]
    }
   ],
   "source": [
    "name=\"Jose\"\n",
    "print(name)\n",
    "print(type(name))"
   ]
  },
  {
   "cell_type": "code",
   "execution_count": 10,
   "metadata": {},
   "outputs": [
    {
     "name": "stdout",
     "output_type": "stream",
     "text": [
      "\"Jose Angel said Hello!\", to which replied you're the best\n"
     ]
    }
   ],
   "source": [
    "dialogue='\"Jose Angel said Hello!\", to which replied you\\'re the best'\n",
    "print(dialogue)"
   ]
  },
  {
   "cell_type": "code",
   "execution_count": 11,
   "metadata": {},
   "outputs": [
    {
     "name": "stdout",
     "output_type": "stream",
     "text": [
      "I'm 25 year old\n"
     ]
    }
   ],
   "source": [
    "segment_one='I\\'m 25'\n",
    "segment_two=\"year old\"\n",
    "full_sentence=segment_one+\" \"+segment_two\n",
    "print(full_sentence)"
   ]
  },
  {
   "cell_type": "code",
   "execution_count": 12,
   "metadata": {},
   "outputs": [
    {
     "name": "stdout",
     "output_type": "stream",
     "text": [
      "150\n",
      "I'm 25 year oldI'm 25 year oldI'm 25 year oldI'm 25 year oldI'm 25 year oldI'm 25 year oldI'm 25 year oldI'm 25 year oldI'm 25 year oldI'm 25 year old\n"
     ]
    }
   ],
   "source": [
    "long_sentence=full_sentence*10\n",
    "print(len(long_sentence))\n",
    "print(long_sentence)"
   ]
  },
  {
   "cell_type": "code",
   "execution_count": null,
   "metadata": {},
   "outputs": [],
   "source": []
  }
 ],
 "metadata": {
  "kernelspec": {
   "display_name": "Python 3",
   "language": "python",
   "name": "python3"
  },
  "language_info": {
   "codemirror_mode": {
    "name": "ipython",
    "version": 3
   },
   "file_extension": ".py",
   "mimetype": "text/x-python",
   "name": "python",
   "nbconvert_exporter": "python",
   "pygments_lexer": "ipython3",
   "version": "3.6.7"
  }
 },
 "nbformat": 4,
 "nbformat_minor": 2
}
