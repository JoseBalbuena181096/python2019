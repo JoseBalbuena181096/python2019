{
 "cells": [
  {
   "cell_type": "markdown",
   "metadata": {},
   "source": [
    "Scope:\n",
    "\n",
    "Parts of your program than can use or access a variable.\n",
    "\n",
    "Local:\n",
    "\n",
    "Variable names assigned within a funtion.\n",
    "    \n",
    "Global:\n",
    "\n",
    "Names assigned at the top level of a module file"
   ]
  },
  {
   "cell_type": "code",
   "execution_count": 5,
   "metadata": {},
   "outputs": [
    {
     "name": "stdout",
     "output_type": "stream",
     "text": [
      "2\n"
     ]
    }
   ],
   "source": [
    "number=2\n",
    "def random_funtion():\n",
    "    name=\"Bill\"\n",
    "print(number)"
   ]
  },
  {
   "cell_type": "markdown",
   "metadata": {},
   "source": [
    "Docstrings\n",
    "\n",
    "String literal that documents a segment of code."
   ]
  },
  {
   "cell_type": "code",
   "execution_count": 8,
   "metadata": {},
   "outputs": [],
   "source": [
    "def rectangle_area(length,width):\n",
    "    \"\"\"\n",
    "    INPUT:\n",
    "    This funtion takes in two parameters length and width\n",
    "    OUTPUT:\n",
    "    This funtion calculates the area based on the length and width provided by the user.\n",
    "    Where area=lenght*width\n",
    "    \"\"\"\n",
    "    return length*width"
   ]
  },
  {
   "cell_type": "markdown",
   "metadata": {},
   "source": [
    "Lambda and Higher Order funtion"
   ]
  },
  {
   "cell_type": "code",
   "execution_count": 9,
   "metadata": {},
   "outputs": [
    {
     "name": "stdout",
     "output_type": "stream",
     "text": [
      "[2, 4]\n"
     ]
    }
   ],
   "source": [
    "numbers=[1,2,3,4,5]\n",
    "def even_or_odd(number):\n",
    "    return number%2 ==0\n",
    "print(list(filter(even_or_odd,numbers)))"
   ]
  },
  {
   "cell_type": "code",
   "execution_count": 10,
   "metadata": {},
   "outputs": [
    {
     "name": "stdout",
     "output_type": "stream",
     "text": [
      "[2, 4]\n"
     ]
    }
   ],
   "source": [
    "print(list(filter(lambda number: number%2==0,numbers)))"
   ]
  }
 ],
 "metadata": {
  "kernelspec": {
   "display_name": "Python 3",
   "language": "python",
   "name": "python3"
  },
  "language_info": {
   "codemirror_mode": {
    "name": "ipython",
    "version": 3
   },
   "file_extension": ".py",
   "mimetype": "text/x-python",
   "name": "python",
   "nbconvert_exporter": "python",
   "pygments_lexer": "ipython3",
   "version": "3.6.7"
  }
 },
 "nbformat": 4,
 "nbformat_minor": 2
}
