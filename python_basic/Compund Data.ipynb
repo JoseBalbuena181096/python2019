{
 "cells": [
  {
   "cell_type": "markdown",
   "metadata": {},
   "source": [
    "Compound Data Struct"
   ]
  },
  {
   "cell_type": "code",
   "execution_count": 5,
   "metadata": {},
   "outputs": [
    {
     "name": "stdout",
     "output_type": "stream",
     "text": [
      "2.29\n"
     ]
    }
   ],
   "source": [
    "grocery_items={\n",
    "    \"bananas\":{\"price\":2.29,\"country of origen\": \"Guatemala\"},\n",
    "    \"apples\":{\"price\":1.99,\"country of origen\": \"Mexico\"},\n",
    "    \"papayas\":{\"price\":2.39,\"country of origen\": \"Costa Rica\"}\n",
    "}\n",
    "print(grocery_items[\"bananas\"][\"price\"])"
   ]
  }
 ],
 "metadata": {
  "kernelspec": {
   "display_name": "Python 3",
   "language": "python",
   "name": "python3"
  },
  "language_info": {
   "codemirror_mode": {
    "name": "ipython",
    "version": 3
   },
   "file_extension": ".py",
   "mimetype": "text/x-python",
   "name": "python",
   "nbconvert_exporter": "python",
   "pygments_lexer": "ipython3",
   "version": "3.6.7"
  }
 },
 "nbformat": 4,
 "nbformat_minor": 2
}
