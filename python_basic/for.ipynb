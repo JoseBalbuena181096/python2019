{
 "cells": [
  {
   "cell_type": "markdown",
   "metadata": {},
   "source": [
    "For loops\n",
    "For \n",
    "\n",
    "Iterable: Can be iterabled through:\n",
    "\n",
    "List String Tuple Dictionary"
   ]
  },
  {
   "cell_type": "code",
   "execution_count": 2,
   "metadata": {},
   "outputs": [
    {
     "name": "stdout",
     "output_type": "stream",
     "text": [
      "January\n",
      "February\n",
      "March\n"
     ]
    }
   ],
   "source": [
    "months=[\"January\",\"February\",\"March\"]\n",
    "for month in months:\n",
    "    print(month)"
   ]
  },
  {
   "cell_type": "code",
   "execution_count": 3,
   "metadata": {},
   "outputs": [
    {
     "name": "stdout",
     "output_type": "stream",
     "text": [
      "0\n",
      "2\n",
      "4\n",
      "6\n",
      "8\n",
      "10\n",
      "12\n",
      "14\n",
      "16\n",
      "18\n",
      "20\n",
      "22\n",
      "24\n",
      "26\n",
      "28\n",
      "30\n",
      "32\n",
      "34\n",
      "36\n",
      "38\n",
      "40\n",
      "42\n",
      "44\n",
      "46\n",
      "48\n",
      "50\n",
      "52\n",
      "54\n",
      "56\n",
      "58\n",
      "60\n",
      "62\n",
      "64\n",
      "66\n",
      "68\n",
      "70\n",
      "72\n",
      "74\n",
      "76\n",
      "78\n",
      "80\n",
      "82\n",
      "84\n",
      "86\n",
      "88\n",
      "90\n",
      "92\n",
      "94\n",
      "96\n",
      "98\n"
     ]
    }
   ],
   "source": [
    "for number in range(0,100,2):\n",
    "    print(number)"
   ]
  },
  {
   "cell_type": "code",
   "execution_count": 6,
   "metadata": {},
   "outputs": [
    {
     "name": "stdout",
     "output_type": "stream",
     "text": [
      "Hello 1\n",
      "Hello 2\n",
      "Hello 3\n",
      "Hello 4\n",
      "Hello 5\n",
      "Hello 6\n",
      "Hello 7\n",
      "Hello 8\n",
      "Hello 9\n",
      "Hello 10\n",
      "Hello 11\n",
      "Hello 12\n",
      "Hello 13\n",
      "Hello 14\n",
      "Hello 15\n",
      "Hello 16\n",
      "Hello 17\n",
      "Hello 18\n",
      "Hello 19\n",
      "Hello 20\n",
      "Hello 21\n",
      "Hello 22\n",
      "Hello 23\n",
      "Hello 24\n",
      "Hello 25\n",
      "Hello 26\n",
      "Hello 27\n",
      "Hello 28\n",
      "Hello 29\n",
      "Hello 30\n",
      "Hello 31\n",
      "Hello 32\n",
      "Hello 33\n",
      "Hello 34\n",
      "Hello 35\n",
      "Hello 36\n",
      "Hello 37\n",
      "Hello 38\n",
      "Hello 39\n",
      "Hello 40\n",
      "Hello 41\n",
      "Hello 42\n",
      "Hello 43\n",
      "Hello 44\n",
      "Hello 45\n",
      "Hello 46\n",
      "Hello 47\n",
      "Hello 48\n",
      "Hello 49\n",
      "Hello 50\n",
      "Hello 51\n",
      "Hello 52\n",
      "Hello 53\n",
      "Hello 54\n",
      "Hello 55\n",
      "Hello 56\n",
      "Hello 57\n",
      "Hello 58\n",
      "Hello 59\n",
      "Hello 60\n",
      "Hello 61\n",
      "Hello 62\n",
      "Hello 63\n",
      "Hello 64\n",
      "Hello 65\n",
      "Hello 66\n",
      "Hello 67\n",
      "Hello 68\n",
      "Hello 69\n",
      "Hello 70\n",
      "Hello 71\n",
      "Hello 72\n",
      "Hello 73\n",
      "Hello 74\n",
      "Hello 75\n",
      "Hello 76\n",
      "Hello 77\n",
      "Hello 78\n",
      "Hello 79\n",
      "Hello 80\n",
      "Hello 81\n",
      "Hello 82\n",
      "Hello 83\n",
      "Hello 84\n",
      "Hello 85\n",
      "Hello 86\n",
      "Hello 87\n",
      "Hello 88\n",
      "Hello 89\n",
      "Hello 90\n",
      "Hello 91\n",
      "Hello 92\n",
      "Hello 93\n",
      "Hello 94\n",
      "Hello 95\n",
      "Hello 96\n",
      "Hello 97\n",
      "Hello 98\n",
      "Hello 99\n",
      "Hello 100\n"
     ]
    }
   ],
   "source": [
    "for number in range(0,100):\n",
    "    print(\"Hello {}\".format(number+1))"
   ]
  },
  {
   "cell_type": "code",
   "execution_count": 9,
   "metadata": {},
   "outputs": [
    {
     "name": "stdout",
     "output_type": "stream",
     "text": [
      "0\n",
      "1\n",
      "2\n"
     ]
    }
   ],
   "source": [
    "names=[\"hillary\",\"diana\",\"ana\"]\n",
    "for index in range(len(names)):\n",
    "    print(index)"
   ]
  },
  {
   "cell_type": "code",
   "execution_count": 11,
   "metadata": {},
   "outputs": [
    {
     "name": "stdout",
     "output_type": "stream",
     "text": [
      "['Hillary', 'Diana', 'Ana']\n"
     ]
    }
   ],
   "source": [
    "for index in range(len(names)):\n",
    "    #Capitalize the first letter\n",
    "    names[index]=names[index].title()\n",
    "print(names)"
   ]
  },
  {
   "cell_type": "code",
   "execution_count": 12,
   "metadata": {},
   "outputs": [],
   "source": [
    "movies={\n",
    "    \"Titanic\":1997,\n",
    "    \"Finding Nemo\":2003\n",
    "}"
   ]
  },
  {
   "cell_type": "code",
   "execution_count": 13,
   "metadata": {},
   "outputs": [
    {
     "name": "stdout",
     "output_type": "stream",
     "text": [
      "Titanic\n",
      "Finding Nemo\n"
     ]
    }
   ],
   "source": [
    "for key in movies:\n",
    "    print(key)"
   ]
  },
  {
   "cell_type": "markdown",
   "metadata": {},
   "source": [
    ".items()\n",
    "Returns: A view object that displays a list of a given dictionary’s (key, value) tuple pair."
   ]
  },
  {
   "cell_type": "code",
   "execution_count": 19,
   "metadata": {},
   "outputs": [],
   "source": [
    "for (key,value) in movies.items():\n",
    "    \"The movie {} was made in {}\".format(key,value)"
   ]
  }
 ],
 "metadata": {
  "kernelspec": {
   "display_name": "Python 3",
   "language": "python",
   "name": "python3"
  },
  "language_info": {
   "codemirror_mode": {
    "name": "ipython",
    "version": 3
   },
   "file_extension": ".py",
   "mimetype": "text/x-python",
   "name": "python",
   "nbconvert_exporter": "python",
   "pygments_lexer": "ipython3",
   "version": "3.6.7"
  }
 },
 "nbformat": 4,
 "nbformat_minor": 2
}
