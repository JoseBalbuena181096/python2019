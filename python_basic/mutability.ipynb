{
 "cells": [
  {
   "cell_type": "markdown",
   "metadata": {},
   "source": [
    "Mutable: Liable to change\n",
    "\n",
    "Immutable: Not liable to change\n",
    "\n",
    "Mutable-->[Boolean,Integer,Float,String]\n",
    "\n",
    "Immutable-->\"CHARACTERS\""
   ]
  },
  {
   "cell_type": "code",
   "execution_count": 1,
   "metadata": {},
   "outputs": [
    {
     "name": "stdout",
     "output_type": "stream",
     "text": [
      "['bananas', 'apples', 'rutabagas']\n"
     ]
    }
   ],
   "source": [
    "grocery_list=[\"bananas\",\"apples\",\"cauliflower\"]\n",
    "grocery_list[2]=\"rutabagas\"\n",
    "print(grocery_list)"
   ]
  },
  {
   "cell_type": "code",
   "execution_count": 4,
   "metadata": {},
   "outputs": [
    {
     "data": {
      "text/plain": [
       "'c'"
      ]
     },
     "execution_count": 4,
     "metadata": {},
     "output_type": "execute_result"
    }
   ],
   "source": [
    "misspelled_vegetable=\"cucumber\"\n",
    "misspelled_vegetable[2]"
   ]
  },
  {
   "cell_type": "markdown",
   "metadata": {},
   "source": [
    "No is possible misspelled_vegetable[2]='n'"
   ]
  },
  {
   "cell_type": "code",
   "execution_count": 6,
   "metadata": {},
   "outputs": [
    {
     "name": "stdout",
     "output_type": "stream",
     "text": [
      "John\n",
      "Ameer\n"
     ]
    }
   ],
   "source": [
    "name=\"Ameer\"\n",
    "other_name=name\n",
    "name=\"John\"\n",
    "print(name)\n",
    "print(other_name)"
   ]
  },
  {
   "cell_type": "markdown",
   "metadata": {},
   "source": [
    "We wrote the following code:\n",
    "    name=\"Ameer\"\n",
    "    other_name=name\n",
    "    name=\"John\"\n",
    "Shouldn´t other_name equal \"John\"? since we just assigned the\n",
    "value of name to the value of other_name?\n",
    "\n",
    "The anser is no! To solve this mystery , we must understand \n",
    "how paython handles memory management for mutable and immutable\n",
    "objects. Let´s go through an example of mutable object first!"
   ]
  },
  {
   "cell_type": "code",
   "execution_count": 10,
   "metadata": {},
   "outputs": [
    {
     "name": "stdout",
     "output_type": "stream",
     "text": [
      "A song of ice and fire\n",
      "['A song of ice and fire', 'The Mist', 'Lord of Rings']\n"
     ]
    }
   ],
   "source": [
    "books=[\"The catcher in the Rye\",\"The Mist\",\"Lord of Rings\"]\n",
    "more_books=books\n",
    "books[0]=\"A song of ice and fire\"\n",
    "print(books[0])\n",
    "print(more_books)"
   ]
  },
  {
   "cell_type": "markdown",
   "metadata": {},
   "source": [
    "When assigning more_books to equal books, both variables \n",
    "refer to the object, such that one variable server as an\n",
    "alias for the other. Meaning since more_books and book\n",
    "both refer to the same object, modifying books would \n",
    "result the same change in more_book. We experience this \n",
    "behavior as we are dealing with a mutable list object, which \n",
    "allows it to be modified in place.\n",
    "\n",
    "This should explain the example at the beginning of this video.\n",
    "\n",
    "name=\"Ameer\"\n",
    "other_name=name\n",
    "name=\"John\"\n",
    "Indeed at first, refers to the same object(the string \"Ameer\") as name.\n",
    "However, since string are immutable, their value cannot be directly change as we did mutable objects. So, when name was reset to equal \"John\" , it now refers to a different object \"John\", whereas other_name is still referring to the sameobjet \"Ammer\""
   ]
  }
 ],
 "metadata": {
  "kernelspec": {
   "display_name": "Python 3",
   "language": "python",
   "name": "python3"
  },
  "language_info": {
   "codemirror_mode": {
    "name": "ipython",
    "version": 3
   },
   "file_extension": ".py",
   "mimetype": "text/x-python",
   "name": "python",
   "nbconvert_exporter": "python",
   "pygments_lexer": "ipython3",
   "version": "3.6.7"
  }
 },
 "nbformat": 4,
 "nbformat_minor": 2
}
