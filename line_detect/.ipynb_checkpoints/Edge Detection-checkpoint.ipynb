{
 "cells": [
  {
   "cell_type": "markdown",
   "metadata": {},
   "source": [
    "## Canny\n",
    "![image info](./notebook/five.jpg)\n",
    "A funtion of intensities in all directions, x and y.\n",
    "![image info](./notebook/six.jpg)\n",
    "for mesuares adjacent change in intensity in all directions, x and y.\n",
    "![image info](./notebook/seven.jpg)\n",
    "#### cv2.Canny(image,low_threshold,high_thereshold)\n",
    "Areas whare it´s completely black correspond to low change in intensity between adjacent oixels. Whereas the white line represent a region in the image whare there is a high change in intensity exceeding threshold.\n",
    "![image info](./notebook/eight.jpg)\n",
    "## Edge detection and gradient calculation intuition\n",
    "- Edge detection is a tool than identifies points in a digital image at which the image brightness changes sharply or has discontinuites.\n",
    "- Edge detection is import tool in computer vision especially for feature extraction/detection.\n",
    "![image info](./notebook/sample-edge.jpg)\n",
    "### SOBEL\n",
    "- Sobel edge detector is a gradient based method.\n",
    "- It works with first order derivatives. It calculate the first of the image separately for X and Y axes.\n",
    "- The solbe uses two 3x3 kernels which are convolved with original image to calculates the derivates.\n",
    "- For image A, Gx and Gy are image representing horizontal and vertical derivate aproximations:\n",
    "    \n",
    "$\n",
    "G_{x}=\n",
    "\\begin{bmatrix}\n",
    "+1 & 0 & -1 \\\\\n",
    "+2 & 0 & -2 \\\\\n",
    "+1 & 0 & -1\n",
    "\\end{bmatrix}\n",
    "*A\n",
    "$\n",
    "    \n",
    "$\n",
    "G_{y}=\n",
    "\\begin{bmatrix}\n",
    "+1 & +2 & +1 \\\\\n",
    "0 & 0 & 0 \\\\\n",
    "-1 & -2 & -1\n",
    "\\end{bmatrix}\n",
    "*A\n",
    "$\n",
    "The kernel on the left approximates the derivate aong the X axis. The one on the right is for the Y axis. Using this information, you can calculate the following.\n",
    "- Magnitude or the \"strength\" of the edge: $\\sqrt{G_{x}^2+G_{y}^2}$\n",
    "- Approximate strength: $|G_{x}|+|G_{y}|$\n",
    "- The orientation of the edge: $\\arctan{\\frac{G_{y}}{G_{x}}}$\n",
    "\n",
    "## Laplacian\n",
    "- Unlike the solve edge detector, the laplacian use only one kernel.\n",
    "- It calculate second order derivates in a single pass and detects zero crossing-\n",
    "- Second order derivates are generally extremaly sensitive to noise.\n",
    "- The Laplacian kernerl is:\n",
    "$\n",
    "\\begin{bmatrix}\n",
    "0& -1 & 0 \\\\\n",
    "-1 & 4 & -1 \\\\\n",
    "0 & -1 & 0\n",
    "\\end{bmatrix}\n",
    "$\n",
    "\n",
    "View image of the laplacian \n",
    "![image info](./notebook/nine.jpg)\n"
   ]
  },
  {
   "cell_type": "markdown",
   "metadata": {},
   "source": [
    "## CANNY\n",
    "1. Smoothigh: Smooth the image with a Gaussian filter with spread $\\sigma$ \n",
    "2. Gradient: Compute gradient magnitude and diection at each pixel of the smoothed image.\n",
    "3. Non- maximum suppression(thinning):Zero out all pixels that are not the maximum along the direction of the gradient (look at 1 pixel on each side)\n",
    "4. Thresholding: Threshold the gradient magnitude image such that strong edge are kept and noise is suppressed.\n",
    "![image info](./notebook/ten.jpg)\n"
   ]
  },
  {
   "cell_type": "code",
   "execution_count": 1,
   "metadata": {},
   "outputs": [],
   "source": [
    "import cv2\n",
    "import numpy as np\n",
    "import matplotlib.pyplot as plt"
   ]
  },
  {
   "cell_type": "code",
   "execution_count": null,
   "metadata": {},
   "outputs": [],
   "source": []
  }
 ],
 "metadata": {
  "kernelspec": {
   "display_name": "Python 3",
   "language": "python",
   "name": "python3"
  },
  "language_info": {
   "codemirror_mode": {
    "name": "ipython",
    "version": 3
   },
   "file_extension": ".py",
   "mimetype": "text/x-python",
   "name": "python",
   "nbconvert_exporter": "python",
   "pygments_lexer": "ipython3",
   "version": "3.6.7"
  }
 },
 "nbformat": 4,
 "nbformat_minor": 2
}
