{
 "cells": [
  {
   "cell_type": "code",
   "execution_count": 2,
   "metadata": {},
   "outputs": [],
   "source": [
    "import cv2 \n",
    "import numpy as np\n",
    "import matplotlib.pyplot as plt"
   ]
  },
  {
   "cell_type": "code",
   "execution_count": 3,
   "metadata": {},
   "outputs": [],
   "source": [
    "def make_coordinates(image,line_parameters):\n",
    "        #unpack parameter the line y=mx+b is equal to (x1,y1),(x2,y2) \n",
    "        #slope=m,intercept=b\n",
    "        slope,intercept=line_parameters\n",
    "        #print(slope)\n",
    "        #print(intercept)\n",
    "        #y1 --> number of rows of pixels\n",
    "        y1=image.shape[0]\n",
    "        #y2---> 3/5 of  y1\n",
    "        y2=int(y1*(3/5))\n",
    "        #x1=(y1-b)/m\n",
    "        x1=int((y1-intercept)/slope)\n",
    "        x2=int((y2-intercept)/slope)\n",
    "        coordinates_line=np.array([x1,y1,x2,y2])\n",
    "        return coordinates_line\n",
    "\n",
    "def averaged_slope_intercept(image,lines):\n",
    "    left_fit=np.array([])\n",
    "    right_fit=np.array([])\n",
    "    for line in lines:\n",
    "        #unpack point of lines \n",
    "        x1,y1,x2,y2=line.reshape(4)\n",
    "        #create array with parameter of straight y=mx+b \n",
    "        parameters=np.polyfit((x1,x2),(y1,y2),1)\n",
    "        #slope is --> m\n",
    "        slope=parameters[0]\n",
    "        #intercep is --> b\n",
    "        intercept=parameters[1]\n",
    "        #print(parameters)\n",
    "        #print(slope)\n",
    "        #print(intercept)\n",
    "        if slope<0:\n",
    "                left_fit=numpy.append(left_fit,[slope,intercept])\n",
    "        else:\n",
    "                right_fit=numpy.append(right_fit,[slope,intercept])\n",
    "        print(right_fit)\n",
    "        print(left_fit)\n",
    "    #averanged left straight y=mx+b \n",
    "    left_fit_average=np.average(left_fit,axis=0)\n",
    "    #averaged right straight y=mx+b \n",
    "    right_fit_average=np.average(right_fit,axis=0)\n",
    "    print(left_fit_average,\"left straight\")    \n",
    "    print(right_fit_average,\"right strainght\")    \n",
    "    left_line=make_coordinates(image,left_fit_average)\n",
    "    right_line=make_coordinates(image,right_fit_average)\n",
    "    coordinates_two_lines=np.array([left_line,right_line])\n",
    "    return coordinates_two_lines\n",
    "\n",
    "def canny(image):\n",
    "    gray=cv2.cvtColor(image,cv2.COLOR_RGB2GRAY)\n",
    "    blur=cv2.GaussianBlur(gray,(5,5),0)\n",
    "    canny=cv2.Canny(blur,50,150)\n",
    "    return canny\n",
    "\n",
    "def display_lines(image,lines):\n",
    "    #create array with zero (black color) with the row x columns of image for a new image\n",
    "    line_image=np.zeros_like(image)\n",
    "    if lines is not None:\n",
    "        for  x1,y1,x2,y2 in lines:\n",
    "            #add  the line to the image line image\n",
    "            cv2.line(line_image,(x1,y1),(x2,y2),(255,0,0),10)\n",
    "    return line_image\n",
    "\n",
    "\n",
    "def region_of_interest(image):\n",
    "    height=image.shape[0]\n",
    "    polygons=np.array([\n",
    "        (200,height),(1100,height),(550,250)\n",
    "    ])\n",
    "    mask=np.zeros_like(image)\n",
    "    cv2.fillPoly(mask,[polygons],255)\n",
    "    masked_image=cv2.bitwise_and(image,mask)\n",
    "    return masked_image"
   ]
  },
  {
   "cell_type": "code",
   "execution_count": 4,
   "metadata": {},
   "outputs": [
    {
     "ename": "NameError",
     "evalue": "name 'numpy' is not defined",
     "output_type": "error",
     "traceback": [
      "\u001b[0;31m---------------------------------------------------------------------------\u001b[0m",
      "\u001b[0;31mNameError\u001b[0m                                 Traceback (most recent call last)",
      "\u001b[0;32m<ipython-input-4-cf4a04483ffa>\u001b[0m in \u001b[0;36m<module>\u001b[0;34m\u001b[0m\n\u001b[1;32m      6\u001b[0m \u001b[0mlines\u001b[0m\u001b[0;34m=\u001b[0m\u001b[0mcv2\u001b[0m\u001b[0;34m.\u001b[0m\u001b[0mHoughLinesP\u001b[0m\u001b[0;34m(\u001b[0m\u001b[0mcropped_image\u001b[0m\u001b[0;34m,\u001b[0m\u001b[0;36m2\u001b[0m\u001b[0;34m,\u001b[0m\u001b[0mnp\u001b[0m\u001b[0;34m.\u001b[0m\u001b[0mpi\u001b[0m\u001b[0;34m/\u001b[0m\u001b[0;36m180\u001b[0m\u001b[0;34m,\u001b[0m\u001b[0;36m100\u001b[0m\u001b[0;34m,\u001b[0m\u001b[0mnp\u001b[0m\u001b[0;34m.\u001b[0m\u001b[0marray\u001b[0m\u001b[0;34m(\u001b[0m\u001b[0;34m[\u001b[0m\u001b[0;34m]\u001b[0m\u001b[0;34m)\u001b[0m\u001b[0;34m,\u001b[0m\u001b[0mminLineLength\u001b[0m\u001b[0;34m=\u001b[0m\u001b[0;36m40\u001b[0m\u001b[0;34m,\u001b[0m\u001b[0mmaxLineGap\u001b[0m\u001b[0;34m=\u001b[0m\u001b[0;36m5\u001b[0m\u001b[0;34m)\u001b[0m\u001b[0;34m\u001b[0m\u001b[0;34m\u001b[0m\u001b[0m\n\u001b[1;32m      7\u001b[0m \u001b[0;31m#coordinates of the average of lines\u001b[0m\u001b[0;34m\u001b[0m\u001b[0;34m\u001b[0m\u001b[0;34m\u001b[0m\u001b[0m\n\u001b[0;32m----> 8\u001b[0;31m \u001b[0maveraged_lines\u001b[0m\u001b[0;34m=\u001b[0m\u001b[0maveraged_slope_intercept\u001b[0m\u001b[0;34m(\u001b[0m\u001b[0mlane_image\u001b[0m\u001b[0;34m,\u001b[0m\u001b[0mlines\u001b[0m\u001b[0;34m)\u001b[0m\u001b[0;34m\u001b[0m\u001b[0;34m\u001b[0m\u001b[0m\n\u001b[0m\u001b[1;32m      9\u001b[0m \u001b[0;31m#create a image with the line\u001b[0m\u001b[0;34m\u001b[0m\u001b[0;34m\u001b[0m\u001b[0;34m\u001b[0m\u001b[0m\n\u001b[1;32m     10\u001b[0m \u001b[0mline_image\u001b[0m\u001b[0;34m=\u001b[0m\u001b[0mdisplay_lines\u001b[0m\u001b[0;34m(\u001b[0m\u001b[0mlane_image\u001b[0m\u001b[0;34m,\u001b[0m\u001b[0maveraged_lines\u001b[0m\u001b[0;34m)\u001b[0m\u001b[0;34m\u001b[0m\u001b[0;34m\u001b[0m\u001b[0m\n",
      "\u001b[0;32m<ipython-input-3-e2df5d1c3832>\u001b[0m in \u001b[0;36maveraged_slope_intercept\u001b[0;34m(image, lines)\u001b[0m\n\u001b[1;32m     33\u001b[0m                 \u001b[0mleft_fit\u001b[0m\u001b[0;34m=\u001b[0m\u001b[0mnumpy\u001b[0m\u001b[0;34m.\u001b[0m\u001b[0mappend\u001b[0m\u001b[0;34m(\u001b[0m\u001b[0mleft_fit\u001b[0m\u001b[0;34m,\u001b[0m\u001b[0;34m[\u001b[0m\u001b[0mslope\u001b[0m\u001b[0;34m,\u001b[0m\u001b[0mintercept\u001b[0m\u001b[0;34m]\u001b[0m\u001b[0;34m)\u001b[0m\u001b[0;34m\u001b[0m\u001b[0;34m\u001b[0m\u001b[0m\n\u001b[1;32m     34\u001b[0m         \u001b[0;32melse\u001b[0m\u001b[0;34m:\u001b[0m\u001b[0;34m\u001b[0m\u001b[0;34m\u001b[0m\u001b[0m\n\u001b[0;32m---> 35\u001b[0;31m                 \u001b[0mleft_fit\u001b[0m\u001b[0;34m=\u001b[0m\u001b[0mnumpy\u001b[0m\u001b[0;34m.\u001b[0m\u001b[0mappend\u001b[0m\u001b[0;34m(\u001b[0m\u001b[0mleft_fit\u001b[0m\u001b[0;34m,\u001b[0m\u001b[0;34m[\u001b[0m\u001b[0mslope\u001b[0m\u001b[0;34m,\u001b[0m\u001b[0mintercept\u001b[0m\u001b[0;34m]\u001b[0m\u001b[0;34m)\u001b[0m\u001b[0;34m\u001b[0m\u001b[0;34m\u001b[0m\u001b[0m\n\u001b[0m\u001b[1;32m     36\u001b[0m         \u001b[0mprint\u001b[0m\u001b[0;34m(\u001b[0m\u001b[0mright_fit\u001b[0m\u001b[0;34m)\u001b[0m\u001b[0;34m\u001b[0m\u001b[0;34m\u001b[0m\u001b[0m\n\u001b[1;32m     37\u001b[0m         \u001b[0mprint\u001b[0m\u001b[0;34m(\u001b[0m\u001b[0mleft_fit\u001b[0m\u001b[0;34m)\u001b[0m\u001b[0;34m\u001b[0m\u001b[0;34m\u001b[0m\u001b[0m\n",
      "\u001b[0;31mNameError\u001b[0m: name 'numpy' is not defined"
     ]
    }
   ],
   "source": [
    "image=cv2.imread(\"test_image.jpg\")\n",
    "lane_image=np.copy(image)\n",
    "canny_image=canny(lane_image)\n",
    "cropped_image=region_of_interest(canny_image)\n",
    "#apply probabilist hough transform\n",
    "lines=cv2.HoughLinesP(cropped_image,2,np.pi/180,100,np.array([]),minLineLength=40,maxLineGap=5)\n",
    "#coordinates of the average of lines\n",
    "averaged_lines=averaged_slope_intercept(lane_image,lines)\n",
    "#create a image with the line\n",
    "line_image=display_lines(lane_image,averaged_lines)\n",
    "#add lines and the image\n",
    "combo_image=cv2.addWeighted(lane_image,0.8,line_image,1,1)\n",
    "plt.imshow(combo_image)\n",
    "plt.show()"
   ]
  }
 ],
 "metadata": {
  "kernelspec": {
   "display_name": "Python 3",
   "language": "python",
   "name": "python3"
  },
  "language_info": {
   "codemirror_mode": {
    "name": "ipython",
    "version": 3
   },
   "file_extension": ".py",
   "mimetype": "text/x-python",
   "name": "python",
   "nbconvert_exporter": "python",
   "pygments_lexer": "ipython3",
   "version": "3.6.7"
  }
 },
 "nbformat": 4,
 "nbformat_minor": 2
}
